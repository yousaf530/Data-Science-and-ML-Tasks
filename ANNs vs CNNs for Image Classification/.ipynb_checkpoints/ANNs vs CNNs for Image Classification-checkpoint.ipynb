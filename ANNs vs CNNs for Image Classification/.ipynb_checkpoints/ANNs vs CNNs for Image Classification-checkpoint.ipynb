{
 "cells": [
  {
   "cell_type": "markdown",
   "metadata": {},
   "source": [
    "##### I built, trained and tested Simple ANN and CNN for Classification of Images using CIFAR10 small images classification dataset and Compared the results."
   ]
  },
  {
   "cell_type": "markdown",
   "metadata": {},
   "source": [
    "## Required Libs"
   ]
  },
  {
   "cell_type": "code",
   "execution_count": 2,
   "metadata": {},
   "outputs": [],
   "source": [
    "# Import required libs\n",
    "import tensorflow as tf\n",
    "from tensorflow.keras import datasets, layers, models\n",
    "import matplotlib.pyplot as plt\n",
    "import numpy as np"
   ]
  },
  {
   "cell_type": "code",
   "execution_count": 4,
   "metadata": {},
   "outputs": [],
   "source": [
    "# Load CIFAR10 small images classification dataset\n",
    "(X_train, y_train), (X_test, y_test) = datasets.cifar10.load_data()"
   ]
  },
  {
   "cell_type": "markdown",
   "metadata": {},
   "source": [
    "## Exploratory Data Analysis"
   ]
  },
  {
   "cell_type": "code",
   "execution_count": 26,
   "metadata": {},
   "outputs": [
    {
     "name": "stdout",
     "output_type": "stream",
     "text": [
      "X Training Data Shape: (50000, 32, 32, 3)\n",
      "X Test Data Shape: (10000, 32, 32, 3)\n",
      "y Training Data Shape: (50000,)\n",
      "y Test Data Shape: (10000, 1)\n"
     ]
    }
   ],
   "source": [
    "# Display Shapes\n",
    "\n",
    "print(\"X Training Data Shape: \" + str(X_train.shape))\n",
    "print(\"X Test Data Shape: \" + str(X_test.shape))\n",
    "print(\"y Training Data Shape: \" + str(y_train.shape))\n",
    "print(\"y Test Data Shape: \" + str(y_test.shape))"
   ]
  },
  {
   "cell_type": "code",
   "execution_count": 27,
   "metadata": {},
   "outputs": [
    {
     "data": {
      "text/plain": [
       "array([6, 9, 9, ..., 9, 1, 1], dtype=uint8)"
      ]
     },
     "execution_count": 27,
     "metadata": {},
     "output_type": "execute_result"
    }
   ],
   "source": [
    "# Reshape y_train from 2D to 1D array\n",
    "\n",
    "y_train = y_train.reshape(-1,)\n",
    "y_train"
   ]
  },
  {
   "cell_type": "code",
   "execution_count": 28,
   "metadata": {},
   "outputs": [],
   "source": [
    "classes = ['airplane','automobile','bird','cat','deer','dog','frog','house','ship','truck']"
   ]
  },
  {
   "cell_type": "code",
   "execution_count": 31,
   "metadata": {},
   "outputs": [],
   "source": [
    "def show_sample(X, y, index):\n",
    "    plt.imshow(X_train[index])\n",
    "    plt.xlabel(classes[y[index]])"
   ]
  },
  {
   "cell_type": "code",
   "execution_count": 33,
   "metadata": {},
   "outputs": [
    {
     "data": {
      "image/png": "[encoded data removed]",
      "text/plain": [
       "<Figure size 432x288 with 1 Axes>"
      ]
     },
     "metadata": {
      "needs_background": "light"
     },
     "output_type": "display_data"
    }
   ],
   "source": [
    "show_sample(X_train,y_train,33)"
   ]
  },
  {
   "cell_type": "code",
   "execution_count": 34,
   "metadata": {},
   "outputs": [],
   "source": [
    "# Normalize data \n",
    "X_train = X_train/255\n",
    "X_test = X_test/255"
   ]
  },
  {
   "cell_type": "markdown",
   "metadata": {},
   "source": [
    "## Simple ANN"
   ]
  },
  {
   "cell_type": "markdown",
   "metadata": {},
   "source": [
    "### Build and Train ANN"
   ]
  },
  {
   "cell_type": "code",
   "execution_count": 41,
   "metadata": {},
   "outputs": [
    {
     "name": "stdout",
     "output_type": "stream",
     "text": [
      "Epoch 1/5\n",
      "1563/1563 [==============================] - 101s 64ms/step - loss: 1.8125 - accuracy: 0.3541\n",
      "Epoch 2/5\n",
      "1563/1563 [==============================] - 94s 60ms/step - loss: 1.6240 - accuracy: 0.4268\n",
      "Epoch 3/5\n",
      "1563/1563 [==============================] - 90s 58ms/step - loss: 1.5404 - accuracy: 0.4574\n",
      "Epoch 4/5\n",
      "1563/1563 [==============================] - 94s 60ms/step - loss: 1.4820 - accuracy: 0.4777\n",
      "Epoch 5/5\n",
      "1563/1563 [==============================] - 94s 60ms/step - loss: 1.4328 - accuracy: 0.4976\n"
     ]
    },
    {
     "data": {
      "text/plain": [
       "<tensorflow.python.keras.callbacks.History at 0x1de3b763a30>"
      ]
     },
     "execution_count": 41,
     "metadata": {},
     "output_type": "execute_result"
    }
   ],
   "source": [
    "\n",
    "ann_model = tf.keras.Sequential([\n",
    "    layers.Flatten(input_shape=(32,32,3)),\n",
    "    layers.Dense(3000,activation='relu'),\n",
    "    layers.Dense(1000,activation='relu'),\n",
    "    layers.Dense(10,activation='sigmoid')\n",
    "])\n",
    "\n",
    "ann_model.compile(optimizer='SGD',\n",
    "           loss = 'sparse_categorical_crossentropy',\n",
    "           metrics=['accuracy'])\n",
    "\n",
    "ann_model.fit(X_train, y_train, epochs=5)"
   ]
  },
  {
   "cell_type": "markdown",
   "metadata": {},
   "source": [
    "##### After 5 epochs, accuracy is at around 49%."
   ]
  },
  {
   "cell_type": "markdown",
   "metadata": {},
   "source": [
    "### ANN Classification Metrics Report"
   ]
  },
  {
   "cell_type": "code",
   "execution_count": 39,
   "metadata": {},
   "outputs": [
    {
     "name": "stdout",
     "output_type": "stream",
     "text": [
      "Classification Report: \n",
      "               precision    recall  f1-score   support\n",
      "\n",
      "           0       0.45      0.64      0.53      1000\n",
      "           1       0.72      0.46      0.56      1000\n",
      "           2       0.38      0.31      0.34      1000\n",
      "           3       0.29      0.50      0.36      1000\n",
      "           4       0.56      0.16      0.25      1000\n",
      "           5       0.50      0.23      0.31      1000\n",
      "           6       0.39      0.73      0.51      1000\n",
      "           7       0.70      0.36      0.47      1000\n",
      "           8       0.55      0.66      0.60      1000\n",
      "           9       0.53      0.57      0.55      1000\n",
      "\n",
      "    accuracy                           0.46     10000\n",
      "   macro avg       0.51      0.46      0.45     10000\n",
      "weighted avg       0.51      0.46      0.45     10000\n",
      "\n"
     ]
    }
   ],
   "source": [
    "from sklearn.metrics import confusion_matrix , classification_report\n",
    "import numpy as np\n",
    "y_pred = ann_model.predict(X_test)\n",
    "y_pred_classes = [np.argmax(element) for element in y_pred]\n",
    "\n",
    "print(\"Classification Report: \\n\", classification_report(y_test, y_pred_classes))"
   ]
  },
  {
   "cell_type": "markdown",
   "metadata": {},
   "source": [
    "# Convolutional Neural Network"
   ]
  },
  {
   "cell_type": "markdown",
   "metadata": {},
   "source": [
    "#### Build and Train CNN"
   ]
  },
  {
   "cell_type": "code",
   "execution_count": 42,
   "metadata": {},
   "outputs": [],
   "source": [
    "cnn = models.Sequential([\n",
    "    layers.Conv2D(filters=32, kernel_size=(3, 3), activation='relu', input_shape=(32, 32, 3)),\n",
    "    layers.MaxPooling2D((2, 2)),\n",
    "    \n",
    "    layers.Conv2D(filters=64, kernel_size=(3, 3), activation='relu'),\n",
    "    layers.MaxPooling2D((2, 2)),\n",
    "    \n",
    "    layers.Flatten(),\n",
    "    layers.Dense(64, activation='relu'),\n",
    "    layers.Dense(10, activation='softmax')\n",
    "])"
   ]
  },
  {
   "cell_type": "code",
   "execution_count": 43,
   "metadata": {},
   "outputs": [],
   "source": [
    "cnn.compile(optimizer='adam',\n",
    "              loss='sparse_categorical_crossentropy',\n",
    "              metrics=['accuracy'])"
   ]
  },
  {
   "cell_type": "code",
   "execution_count": 44,
   "metadata": {},
   "outputs": [
    {
     "name": "stdout",
     "output_type": "stream",
     "text": [
      "Epoch 1/10\n",
      "1563/1563 [==============================] - 47s 30ms/step - loss: 1.4609 - accuracy: 0.4710\n",
      "Epoch 2/10\n",
      "1563/1563 [==============================] - 45s 29ms/step - loss: 1.1170 - accuracy: 0.6112\n",
      "Epoch 3/10\n",
      "1563/1563 [==============================] - 46s 29ms/step - loss: 0.9983 - accuracy: 0.6513\n",
      "Epoch 4/10\n",
      "1563/1563 [==============================] - 49s 31ms/step - loss: 0.9222 - accuracy: 0.6787\n",
      "Epoch 5/10\n",
      "1563/1563 [==============================] - 45s 29ms/step - loss: 0.8573 - accuracy: 0.7047\n",
      "Epoch 6/10\n",
      "1563/1563 [==============================] - 47s 30ms/step - loss: 0.8001 - accuracy: 0.7216\n",
      "Epoch 7/10\n",
      "1563/1563 [==============================] - 46s 29ms/step - loss: 0.7517 - accuracy: 0.7392\n",
      "Epoch 8/10\n",
      "1563/1563 [==============================] - 46s 29ms/step - loss: 0.7083 - accuracy: 0.7523\n",
      "Epoch 9/10\n",
      "1563/1563 [==============================] - 46s 30ms/step - loss: 0.6735 - accuracy: 0.7666\n",
      "Epoch 10/10\n",
      "1563/1563 [==============================] - 51s 32ms/step - loss: 0.6377 - accuracy: 0.7752\n"
     ]
    },
    {
     "data": {
      "text/plain": [
       "<tensorflow.python.keras.callbacks.History at 0x1de3b99b370>"
      ]
     },
     "execution_count": 44,
     "metadata": {},
     "output_type": "execute_result"
    }
   ],
   "source": [
    "cnn.fit(X_train, y_train, epochs=10)"
   ]
  },
  {
   "cell_type": "markdown",
   "metadata": {},
   "source": [
    "##### After 5 epochs, accuracy was at around 70% which is a significant improvement over ANN. CNN's are best for image classification and gives superb accuracy. Also computation is much less compared to simple ANN as maxpooling reduces the image dimensions while still preserving the features."
   ]
  },
  {
   "cell_type": "code",
   "execution_count": 52,
   "metadata": {},
   "outputs": [
    {
     "name": "stdout",
     "output_type": "stream",
     "text": [
      "313/313 [==============================] - 3s 9ms/step - loss: 0.9648 - accuracy: 0.6824\n",
      "Test Loss:  0.9647612571716309\n",
      "Test Accuracy: 68.23999881744385%\n"
     ]
    }
   ],
   "source": [
    "# Evaluate the model on the test data\n",
    "results = cnn.evaluate(X_test,y_test)\n",
    "print(\"Test Loss: \", results[0])\n",
    "print(\"Test Accuracy: \"+ str(results[1]*100) + \"%\")"
   ]
  },
  {
   "cell_type": "code",
   "execution_count": 70,
   "metadata": {},
   "outputs": [
    {
     "data": {
      "text/plain": [
       "array([3.5857767e-02, 1.0759798e-01, 1.4545624e-05, 1.1641965e-06,\n",
       "       6.9422711e-08, 5.6260802e-07, 8.3008391e-09, 4.7656002e-08,\n",
       "       8.5587037e-01, 6.5742526e-04], dtype=float32)"
      ]
     },
     "execution_count": 70,
     "metadata": {},
     "output_type": "execute_result"
    }
   ],
   "source": [
    "# Checking predicted output\n",
    "y_pred = cnn.predict(X_test)\n",
    "y_pred[1]"
   ]
  },
  {
   "cell_type": "code",
   "execution_count": 73,
   "metadata": {},
   "outputs": [
    {
     "data": {
      "text/plain": [
       "[3, 8, 8, 0, 6, 6, 1, 6, 3, 1, 4, 9]"
      ]
     },
     "execution_count": 73,
     "metadata": {},
     "output_type": "execute_result"
    }
   ],
   "source": [
    "# Convert Probabilities to classes\n",
    "y_classes = [np.argmax(element) for element in y_pred]\n",
    "y_classes[:12]"
   ]
  },
  {
   "cell_type": "code",
   "execution_count": 74,
   "metadata": {},
   "outputs": [
    {
     "data": {
      "text/plain": [
       "array([3, 8, 8, 0, 6, 6, 1, 6, 3, 1, 0, 9], dtype=uint8)"
      ]
     },
     "execution_count": 74,
     "metadata": {},
     "output_type": "execute_result"
    }
   ],
   "source": [
    "# Counter verification\n",
    "y_test[:12]"
   ]
  },
  {
   "cell_type": "code",
   "execution_count": 91,
   "metadata": {},
   "outputs": [],
   "source": [
    "# Convery y_test to 1D array\n",
    "y_test = y_test.reshape(-1,)"
   ]
  },
  {
   "cell_type": "code",
   "execution_count": 92,
   "metadata": {},
   "outputs": [],
   "source": [
    "def show_testsample(X, y, index):\n",
    "    plt.imshow(X_test[index])\n",
    "    plt.xlabel(classes[y[index]])"
   ]
  },
  {
   "cell_type": "code",
   "execution_count": 93,
   "metadata": {},
   "outputs": [
    {
     "data": {
      "image/png": "[encoded data removed]",
      "text/plain": [
       "<Figure size 432x288 with 1 Axes>"
      ]
     },
     "metadata": {
      "needs_background": "light"
     },
     "output_type": "display_data"
    }
   ],
   "source": [
    "show_testsample(X_test, y_test,0)"
   ]
  },
  {
   "cell_type": "code",
   "execution_count": 98,
   "metadata": {},
   "outputs": [
    {
     "name": "stdout",
     "output_type": "stream",
     "text": [
      "Predicted Class is cat\n"
     ]
    }
   ],
   "source": [
    "print(\"Predicted Class is \" + classes[y_classes[0]])"
   ]
  },
  {
   "cell_type": "code",
   "execution_count": 99,
   "metadata": {},
   "outputs": [
    {
     "name": "stdout",
     "output_type": "stream",
     "text": [
      "Actual Class is cat\n"
     ]
    }
   ],
   "source": [
    "print(\"Actual Class is \" + classes[y_test[0]])"
   ]
  },
  {
   "cell_type": "markdown",
   "metadata": {},
   "source": [
    "## CNN Classification Metrics Report"
   ]
  },
  {
   "cell_type": "code",
   "execution_count": 101,
   "metadata": {},
   "outputs": [
    {
     "name": "stdout",
     "output_type": "stream",
     "text": [
      "Classification Report: \n",
      "               precision    recall  f1-score   support\n",
      "\n",
      "           0       0.73      0.74      0.74      1000\n",
      "           1       0.85      0.77      0.81      1000\n",
      "           2       0.54      0.62      0.58      1000\n",
      "           3       0.51      0.46      0.48      1000\n",
      "           4       0.73      0.50      0.59      1000\n",
      "           5       0.68      0.52      0.59      1000\n",
      "           6       0.62      0.85      0.72      1000\n",
      "           7       0.76      0.74      0.75      1000\n",
      "           8       0.68      0.88      0.76      1000\n",
      "           9       0.79      0.75      0.77      1000\n",
      "\n",
      "    accuracy                           0.68     10000\n",
      "   macro avg       0.69      0.68      0.68     10000\n",
      "weighted avg       0.69      0.68      0.68     10000\n",
      "\n"
     ]
    }
   ],
   "source": [
    "from sklearn.metrics import confusion_matrix , classification_report\n",
    "import numpy as np\n",
    "y_pred = cnn.predict(X_test)\n",
    "y_pred_classes = [np.argmax(element) for element in y_pred]\n",
    "\n",
    "print(\"Classification Report: \\n\", classification_report(y_test, y_pred_classes))"
   ]
  }
 ],
 "metadata": {
  "kernelspec": {
   "display_name": "Python 3",
   "language": "python",
   "name": "python3"
  },
  "language_info": {
   "codemirror_mode": {
    "name": "ipython",
    "version": 3
   },
   "file_extension": ".py",
   "mimetype": "text/x-python",
   "name": "python",
   "nbconvert_exporter": "python",
   "pygments_lexer": "ipython3",
   "version": "3.8.5"
  }
 },
 "nbformat": 4,
 "nbformat_minor": 4
}
