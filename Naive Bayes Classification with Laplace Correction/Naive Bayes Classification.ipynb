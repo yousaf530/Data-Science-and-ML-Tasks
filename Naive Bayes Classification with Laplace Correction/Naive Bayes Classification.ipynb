{
 "cells": [
  {
   "cell_type": "markdown",
   "metadata": {},
   "source": [
    "# Naive Bayes Classification with Laplace Smoothing/Correction"
   ]
  },
  {
   "cell_type": "code",
   "execution_count": 1,
   "metadata": {},
   "outputs": [],
   "source": [
    "# To see multiple output statements in same sell without print or display\n",
    "\n",
    "from IPython.core.interactiveshell import InteractiveShell\n",
    "InteractiveShell.ast_node_interactivity = \"all\""
   ]
  },
  {
   "cell_type": "code",
   "execution_count": 2,
   "metadata": {},
   "outputs": [],
   "source": [
    "# Required Libraries\n",
    "import pandas as pd\n",
    "import numpy as np"
   ]
  },
  {
   "cell_type": "markdown",
   "metadata": {},
   "source": [
    "## Data"
   ]
  },
  {
   "cell_type": "code",
   "execution_count": 3,
   "metadata": {},
   "outputs": [],
   "source": [
    "# Dataset\n",
    "\n",
    "emp_data = {\n",
    "    \"Department\": [\"sales\",\"sales\",\"sales\",\"systems\",\"systems\",\"systems\",\"systems\",\"marketing\",\"marketing\", \"secretary\",\"secretary\"],\n",
    "    \"Age\": [\"31...35\",\"26...30\",\"31...35\",\"21...25\",\"31...35\",\"26...30\",\"41...45\",\"36...40\",\"31...35\",\"46...50\",\"26...30\"],\n",
    "    \"Salary\": [\"46K-50K\",\"26K-30K\",\"31K-35K\",\"46K-50K\",\"66K-70K\",\"46K-50K\",\"66K-70K\",\"46K-50K\",\"41K-45K\",\"36K-40K\",\"26K-30K\"],\n",
    "    \"Status\": [\"senior\",\"junior\",\"junior\",\"junior\",\"senior\",\"junior\",\"senior\",\"senior\",\"junior\",\"senior\",\"junior\"]\n",
    "}"
   ]
  },
  {
   "cell_type": "code",
   "execution_count": 4,
   "metadata": {},
   "outputs": [
    {
     "data": {
      "text/html": [
       "<div>\n",
       "<style scoped>\n",
       "    .dataframe tbody tr th:only-of-type {\n",
       "        vertical-align: middle;\n",
       "    }\n",
       "\n",
       "    .dataframe tbody tr th {\n",
       "        vertical-align: top;\n",
       "    }\n",
       "\n",
       "    .dataframe thead th {\n",
       "        text-align: right;\n",
       "    }\n",
       "</style>\n",
       "<table border=\"1\" class=\"dataframe\">\n",
       "  <thead>\n",
       "    <tr style=\"text-align: right;\">\n",
       "      <th></th>\n",
       "      <th>Department</th>\n",
       "      <th>Age</th>\n",
       "      <th>Salary</th>\n",
       "      <th>Status</th>\n",
       "    </tr>\n",
       "  </thead>\n",
       "  <tbody>\n",
       "    <tr>\n",
       "      <th>0</th>\n",
       "      <td>sales</td>\n",
       "      <td>31...35</td>\n",
       "      <td>46K-50K</td>\n",
       "      <td>senior</td>\n",
       "    </tr>\n",
       "    <tr>\n",
       "      <th>1</th>\n",
       "      <td>sales</td>\n",
       "      <td>26...30</td>\n",
       "      <td>26K-30K</td>\n",
       "      <td>junior</td>\n",
       "    </tr>\n",
       "    <tr>\n",
       "      <th>2</th>\n",
       "      <td>sales</td>\n",
       "      <td>31...35</td>\n",
       "      <td>31K-35K</td>\n",
       "      <td>junior</td>\n",
       "    </tr>\n",
       "    <tr>\n",
       "      <th>3</th>\n",
       "      <td>systems</td>\n",
       "      <td>21...25</td>\n",
       "      <td>46K-50K</td>\n",
       "      <td>junior</td>\n",
       "    </tr>\n",
       "    <tr>\n",
       "      <th>4</th>\n",
       "      <td>systems</td>\n",
       "      <td>31...35</td>\n",
       "      <td>66K-70K</td>\n",
       "      <td>senior</td>\n",
       "    </tr>\n",
       "  </tbody>\n",
       "</table>\n",
       "</div>"
      ],
      "text/plain": [
       "  Department      Age   Salary  Status\n",
       "0      sales  31...35  46K-50K  senior\n",
       "1      sales  26...30  26K-30K  junior\n",
       "2      sales  31...35  31K-35K  junior\n",
       "3    systems  21...25  46K-50K  junior\n",
       "4    systems  31...35  66K-70K  senior"
      ]
     },
     "execution_count": 4,
     "metadata": {},
     "output_type": "execute_result"
    }
   ],
   "source": [
    "df = pd.DataFrame(emp_data)\n",
    "# df.head()"
   ]
  },
  {
   "cell_type": "markdown",
   "metadata": {},
   "source": [
    "## NB Classifier with Laplace Smoothing"
   ]
  },
  {
   "cell_type": "code",
   "execution_count": 15,
   "metadata": {},
   "outputs": [],
   "source": [
    "# Naive Bayes Train Function with laplace Smoothing\n",
    "\n",
    "def nblaplace_train(data, laplace = 0):\n",
    "    \n",
    "    # Prior Probablities Calculation \n",
    "    \n",
    "    labels = data[\"Status\"].unique()\n",
    "    labels_len = len(y_classes)\n",
    "    \n",
    "    prior_prob = np.zeros(labels_len) # List Containing Prior Probabilities of Senior and Junior\n",
    "    \n",
    "    for i in range(0,labels_len):\n",
    "        obs = sum(data['Status'] == labels[i]) + laplace\n",
    "        total = len(data['Status']) + 2 * laplace\n",
    "        prior_prob[i] =  obs / total\n",
    "        \n",
    "        \n",
    "    # Conditional Probablities Calculation\n",
    "    \n",
    "    cond_prob = {}\n",
    "    for column in data.columns[:-1]:\n",
    "        x_classes = list(set(data[column]))\n",
    "        x_classes_len = len(x_classes)\n",
    "        x_cond_prob = np.zeros((y_classes_len, len(set(data[column]))))\n",
    "        \n",
    "        for a in range(0, y_classes_len):\n",
    "            for b in range(0, x_classes_len):\n",
    "                count = data.loc[(data[column] == x_classes[b]) & (data['Status'] == y_classes[a]),].shape[0] + laplace\n",
    "                total = sum(data[\"Status\"] == y_classes[a]) + x_classes_len * laplace\n",
    "                x_cond_prob[a][b] = count / total\n",
    "                \n",
    "        x_cond_prob = pd.DataFrame(x_cond_prob,columns=x_classes,index=y_classes)   \n",
    "        cond_prob[column] = x_cond_prob\n",
    "    \n",
    "    return prior_prob, cond_prob"
   ]
  },
  {
   "cell_type": "markdown",
   "metadata": {},
   "source": [
    "## Training NB Classifier"
   ]
  },
  {
   "cell_type": "code",
   "execution_count": 13,
   "metadata": {},
   "outputs": [
    {
     "name": "stdout",
     "output_type": "stream",
     "text": [
      "Conditional Laplace Probabilities for Age\n"
     ]
    },
    {
     "data": {
      "text/html": [
       "<div>\n",
       "<style scoped>\n",
       "    .dataframe tbody tr th:only-of-type {\n",
       "        vertical-align: middle;\n",
       "    }\n",
       "\n",
       "    .dataframe tbody tr th {\n",
       "        vertical-align: top;\n",
       "    }\n",
       "\n",
       "    .dataframe thead th {\n",
       "        text-align: right;\n",
       "    }\n",
       "</style>\n",
       "<table border=\"1\" class=\"dataframe\">\n",
       "  <thead>\n",
       "    <tr style=\"text-align: right;\">\n",
       "      <th></th>\n",
       "      <th>26...30</th>\n",
       "      <th>46...50</th>\n",
       "      <th>36...40</th>\n",
       "      <th>31...35</th>\n",
       "      <th>41...45</th>\n",
       "      <th>21...25</th>\n",
       "    </tr>\n",
       "  </thead>\n",
       "  <tbody>\n",
       "    <tr>\n",
       "      <th>senior</th>\n",
       "      <td>0.090909</td>\n",
       "      <td>0.181818</td>\n",
       "      <td>0.181818</td>\n",
       "      <td>0.272727</td>\n",
       "      <td>0.181818</td>\n",
       "      <td>0.090909</td>\n",
       "    </tr>\n",
       "    <tr>\n",
       "      <th>junior</th>\n",
       "      <td>0.333333</td>\n",
       "      <td>0.083333</td>\n",
       "      <td>0.083333</td>\n",
       "      <td>0.250000</td>\n",
       "      <td>0.083333</td>\n",
       "      <td>0.166667</td>\n",
       "    </tr>\n",
       "  </tbody>\n",
       "</table>\n",
       "</div>"
      ],
      "text/plain": [
       "         26...30   46...50   36...40   31...35   41...45   21...25\n",
       "senior  0.090909  0.181818  0.181818  0.272727  0.181818  0.090909\n",
       "junior  0.333333  0.083333  0.083333  0.250000  0.083333  0.166667"
      ]
     },
     "execution_count": 13,
     "metadata": {},
     "output_type": "execute_result"
    },
    {
     "name": "stdout",
     "output_type": "stream",
     "text": [
      "Conditional Laplace Probabilities for Department\n"
     ]
    },
    {
     "data": {
      "text/html": [
       "<div>\n",
       "<style scoped>\n",
       "    .dataframe tbody tr th:only-of-type {\n",
       "        vertical-align: middle;\n",
       "    }\n",
       "\n",
       "    .dataframe tbody tr th {\n",
       "        vertical-align: top;\n",
       "    }\n",
       "\n",
       "    .dataframe thead th {\n",
       "        text-align: right;\n",
       "    }\n",
       "</style>\n",
       "<table border=\"1\" class=\"dataframe\">\n",
       "  <thead>\n",
       "    <tr style=\"text-align: right;\">\n",
       "      <th></th>\n",
       "      <th>sales</th>\n",
       "      <th>systems</th>\n",
       "      <th>secretary</th>\n",
       "      <th>marketing</th>\n",
       "    </tr>\n",
       "  </thead>\n",
       "  <tbody>\n",
       "    <tr>\n",
       "      <th>senior</th>\n",
       "      <td>0.222222</td>\n",
       "      <td>0.333333</td>\n",
       "      <td>0.222222</td>\n",
       "      <td>0.222222</td>\n",
       "    </tr>\n",
       "    <tr>\n",
       "      <th>junior</th>\n",
       "      <td>0.300000</td>\n",
       "      <td>0.300000</td>\n",
       "      <td>0.200000</td>\n",
       "      <td>0.200000</td>\n",
       "    </tr>\n",
       "  </tbody>\n",
       "</table>\n",
       "</div>"
      ],
      "text/plain": [
       "           sales   systems  secretary  marketing\n",
       "senior  0.222222  0.333333   0.222222   0.222222\n",
       "junior  0.300000  0.300000   0.200000   0.200000"
      ]
     },
     "execution_count": 13,
     "metadata": {},
     "output_type": "execute_result"
    },
    {
     "name": "stdout",
     "output_type": "stream",
     "text": [
      "Conditional Laplace Probabilities for Salary\n"
     ]
    },
    {
     "data": {
      "text/html": [
       "<div>\n",
       "<style scoped>\n",
       "    .dataframe tbody tr th:only-of-type {\n",
       "        vertical-align: middle;\n",
       "    }\n",
       "\n",
       "    .dataframe tbody tr th {\n",
       "        vertical-align: top;\n",
       "    }\n",
       "\n",
       "    .dataframe thead th {\n",
       "        text-align: right;\n",
       "    }\n",
       "</style>\n",
       "<table border=\"1\" class=\"dataframe\">\n",
       "  <thead>\n",
       "    <tr style=\"text-align: right;\">\n",
       "      <th></th>\n",
       "      <th>46K-50K</th>\n",
       "      <th>26K-30K</th>\n",
       "      <th>36K-40K</th>\n",
       "      <th>66K-70K</th>\n",
       "      <th>41K-45K</th>\n",
       "      <th>31K-35K</th>\n",
       "    </tr>\n",
       "  </thead>\n",
       "  <tbody>\n",
       "    <tr>\n",
       "      <th>senior</th>\n",
       "      <td>0.272727</td>\n",
       "      <td>0.090909</td>\n",
       "      <td>0.181818</td>\n",
       "      <td>0.272727</td>\n",
       "      <td>0.090909</td>\n",
       "      <td>0.090909</td>\n",
       "    </tr>\n",
       "    <tr>\n",
       "      <th>junior</th>\n",
       "      <td>0.250000</td>\n",
       "      <td>0.250000</td>\n",
       "      <td>0.083333</td>\n",
       "      <td>0.083333</td>\n",
       "      <td>0.166667</td>\n",
       "      <td>0.166667</td>\n",
       "    </tr>\n",
       "  </tbody>\n",
       "</table>\n",
       "</div>"
      ],
      "text/plain": [
       "         46K-50K   26K-30K   36K-40K   66K-70K   41K-45K   31K-35K\n",
       "senior  0.272727  0.090909  0.181818  0.272727  0.090909  0.090909\n",
       "junior  0.250000  0.250000  0.083333  0.083333  0.166667  0.166667"
      ]
     },
     "execution_count": 13,
     "metadata": {},
     "output_type": "execute_result"
    }
   ],
   "source": [
    "# Training on Data\n",
    "\n",
    "prior_prob, cond_prob = nblaplace_train(df, laplace = 1)\n",
    "\n",
    "print(\"Conditional Laplace Probabilities for Age\")\n",
    "cond_prob['Age']\n",
    "\n",
    "print(\"Conditional Laplace Probabilities for Department\")\n",
    "cond_prob['Department']\n",
    "\n",
    "print(\"Conditional Laplace Probabilities for Salary\")\n",
    "cond_prob['Salary']"
   ]
  },
  {
   "cell_type": "markdown",
   "metadata": {},
   "source": [
    "## Classification"
   ]
  },
  {
   "cell_type": "code",
   "execution_count": 7,
   "metadata": {},
   "outputs": [],
   "source": [
    "# Prediction Function\n",
    "\n",
    "def nblaplace_predict(testcase):\n",
    "    \n",
    "    department, age, salary = testcase\n",
    "    P = {}\n",
    "    P[\"senior\"] = prior_prob[0]*cond_prob[\"Department\"][department][0]*cond_prob[\"Age\"][age][0]*cond_prob[\"Salary\"][salary][0]\n",
    "    P[\"junior\"] = prior_prob[1]*cond_prob[\"Department\"][department][1]*cond_prob[\"Age\"][age][1]*cond_prob[\"Salary\"][salary][1]\n",
    "    \n",
    "    ans = max(P, key=P.get)\n",
    "    \n",
    "    return ans, P[ans]"
   ]
  },
  {
   "cell_type": "code",
   "execution_count": 16,
   "metadata": {},
   "outputs": [],
   "source": [
    "# Testing Classifier\n",
    "\n",
    "a = nblaplace_predict([\"marketing\", \"31...35\", \"46K-50K\"])\n",
    "b = nblaplace_predict([\"sales\", \"31...35\", \"66K-70K\"])\n",
    "c = nblaplace_predict([\"systems\", \"21...25\", \"31K-35K\"])"
   ]
  },
  {
   "cell_type": "markdown",
   "metadata": {},
   "source": [
    "## Outcome"
   ]
  },
  {
   "cell_type": "code",
   "execution_count": 26,
   "metadata": {},
   "outputs": [
    {
     "name": "stdout",
     "output_type": "stream",
     "text": [
      "Results of Classification\n",
      "\n",
      "Classified as senior with greater probability of 0.007628734901462173\n",
      "Classified as senior with greater probability of 0.007628734901462173\n",
      "Classified as junior with greater probability of 0.004487179487179486\n"
     ]
    }
   ],
   "source": [
    "# Output\n",
    "print(\"Results of Classification\\n\")\n",
    "\n",
    "print(\"Classified as\", a[0],\"with greater probability of\",a[1])\n",
    "print(\"Classified as\", b[0],\"with greater probability of\",b[1])\n",
    "print(\"Classified as\", c[0],\"with greater probability of\",c[1])"
   ]
  }
 ],
 "metadata": {
  "kernelspec": {
   "display_name": "Python 3",
   "language": "python",
   "name": "python3"
  },
  "language_info": {
   "codemirror_mode": {
    "name": "ipython",
    "version": 3
   },
   "file_extension": ".py",
   "mimetype": "text/x-python",
   "name": "python",
   "nbconvert_exporter": "python",
   "pygments_lexer": "ipython3",
   "version": "3.8.5"
  }
 },
 "nbformat": 4,
 "nbformat_minor": 4
}
